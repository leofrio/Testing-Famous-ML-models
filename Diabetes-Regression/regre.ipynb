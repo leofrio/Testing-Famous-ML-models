{
 "cells": [
  {
   "cell_type": "markdown",
   "metadata": {},
   "source": [
    "#### IMPORTING LIBRARYS"
   ]
  },
  {
   "cell_type": "code",
   "execution_count": 70,
   "metadata": {},
   "outputs": [],
   "source": [
    "import pandas as pd \n",
    "import numpy as np \n",
    "import matplotlib.pyplot  as plt\n",
    "import seaborn as sns \n",
    "\n",
    "from sklearn.ensemble import RandomForestRegressor \n",
    "from sklearn.linear_model import LinearRegression \n",
    "from sklearn.model_selection import cross_val_score,cross_val_predict,train_test_split \n",
    "from sklearn.datasets import load_diabetes \n",
    "from sklearn.decomposition import PCA  \n",
    "from  sklearn.tree import  DecisionTreeRegressor"
   ]
  },
  {
   "cell_type": "markdown",
   "metadata": {},
   "source": [
    "#### LOADING AND PREPARING DATA"
   ]
  },
  {
   "cell_type": "code",
   "execution_count": 71,
   "metadata": {},
   "outputs": [
    {
     "data": {
      "text/html": [
       "<div>\n",
       "<style scoped>\n",
       "    .dataframe tbody tr th:only-of-type {\n",
       "        vertical-align: middle;\n",
       "    }\n",
       "\n",
       "    .dataframe tbody tr th {\n",
       "        vertical-align: top;\n",
       "    }\n",
       "\n",
       "    .dataframe thead th {\n",
       "        text-align: right;\n",
       "    }\n",
       "</style>\n",
       "<table border=\"1\" class=\"dataframe\">\n",
       "  <thead>\n",
       "    <tr style=\"text-align: right;\">\n",
       "      <th></th>\n",
       "      <th>0</th>\n",
       "      <th>1</th>\n",
       "      <th>2</th>\n",
       "      <th>3</th>\n",
       "      <th>4</th>\n",
       "      <th>5</th>\n",
       "      <th>6</th>\n",
       "      <th>7</th>\n",
       "      <th>8</th>\n",
       "      <th>9</th>\n",
       "      <th>target</th>\n",
       "    </tr>\n",
       "  </thead>\n",
       "  <tbody>\n",
       "    <tr>\n",
       "      <th>325</th>\n",
       "      <td>-0.001882</td>\n",
       "      <td>-0.044642</td>\n",
       "      <td>0.054152</td>\n",
       "      <td>-0.066495</td>\n",
       "      <td>0.072732</td>\n",
       "      <td>0.056619</td>\n",
       "      <td>-0.043401</td>\n",
       "      <td>0.084863</td>\n",
       "      <td>0.084495</td>\n",
       "      <td>0.048628</td>\n",
       "      <td>192.0</td>\n",
       "    </tr>\n",
       "    <tr>\n",
       "      <th>22</th>\n",
       "      <td>-0.085430</td>\n",
       "      <td>-0.044642</td>\n",
       "      <td>-0.004050</td>\n",
       "      <td>-0.009113</td>\n",
       "      <td>-0.002945</td>\n",
       "      <td>0.007767</td>\n",
       "      <td>0.022869</td>\n",
       "      <td>-0.039493</td>\n",
       "      <td>-0.061177</td>\n",
       "      <td>-0.013504</td>\n",
       "      <td>68.0</td>\n",
       "    </tr>\n",
       "    <tr>\n",
       "      <th>347</th>\n",
       "      <td>0.038076</td>\n",
       "      <td>0.050680</td>\n",
       "      <td>-0.029918</td>\n",
       "      <td>-0.074528</td>\n",
       "      <td>-0.012577</td>\n",
       "      <td>-0.012587</td>\n",
       "      <td>0.004460</td>\n",
       "      <td>-0.002592</td>\n",
       "      <td>0.003712</td>\n",
       "      <td>-0.030072</td>\n",
       "      <td>88.0</td>\n",
       "    </tr>\n",
       "    <tr>\n",
       "      <th>299</th>\n",
       "      <td>0.038076</td>\n",
       "      <td>0.050680</td>\n",
       "      <td>-0.013751</td>\n",
       "      <td>-0.015999</td>\n",
       "      <td>-0.035968</td>\n",
       "      <td>-0.021982</td>\n",
       "      <td>-0.013948</td>\n",
       "      <td>-0.002592</td>\n",
       "      <td>-0.025952</td>\n",
       "      <td>-0.001078</td>\n",
       "      <td>83.0</td>\n",
       "    </tr>\n",
       "    <tr>\n",
       "      <th>300</th>\n",
       "      <td>0.016281</td>\n",
       "      <td>-0.044642</td>\n",
       "      <td>0.073552</td>\n",
       "      <td>-0.041247</td>\n",
       "      <td>-0.004321</td>\n",
       "      <td>-0.013527</td>\n",
       "      <td>-0.013948</td>\n",
       "      <td>-0.001116</td>\n",
       "      <td>0.042896</td>\n",
       "      <td>0.044485</td>\n",
       "      <td>275.0</td>\n",
       "    </tr>\n",
       "    <tr>\n",
       "      <th>...</th>\n",
       "      <td>...</td>\n",
       "      <td>...</td>\n",
       "      <td>...</td>\n",
       "      <td>...</td>\n",
       "      <td>...</td>\n",
       "      <td>...</td>\n",
       "      <td>...</td>\n",
       "      <td>...</td>\n",
       "      <td>...</td>\n",
       "      <td>...</td>\n",
       "      <td>...</td>\n",
       "    </tr>\n",
       "    <tr>\n",
       "      <th>148</th>\n",
       "      <td>-0.060003</td>\n",
       "      <td>0.050680</td>\n",
       "      <td>0.015350</td>\n",
       "      <td>-0.019442</td>\n",
       "      <td>0.036958</td>\n",
       "      <td>0.048164</td>\n",
       "      <td>0.019187</td>\n",
       "      <td>-0.002592</td>\n",
       "      <td>-0.030751</td>\n",
       "      <td>-0.001078</td>\n",
       "      <td>96.0</td>\n",
       "    </tr>\n",
       "    <tr>\n",
       "      <th>231</th>\n",
       "      <td>0.009016</td>\n",
       "      <td>-0.044642</td>\n",
       "      <td>-0.030996</td>\n",
       "      <td>0.021872</td>\n",
       "      <td>0.008063</td>\n",
       "      <td>0.008707</td>\n",
       "      <td>0.004460</td>\n",
       "      <td>-0.002592</td>\n",
       "      <td>0.009436</td>\n",
       "      <td>0.011349</td>\n",
       "      <td>154.0</td>\n",
       "    </tr>\n",
       "    <tr>\n",
       "      <th>183</th>\n",
       "      <td>0.045341</td>\n",
       "      <td>0.050680</td>\n",
       "      <td>-0.035307</td>\n",
       "      <td>0.063187</td>\n",
       "      <td>-0.004321</td>\n",
       "      <td>-0.001627</td>\n",
       "      <td>-0.010266</td>\n",
       "      <td>-0.002592</td>\n",
       "      <td>0.015567</td>\n",
       "      <td>0.056912</td>\n",
       "      <td>185.0</td>\n",
       "    </tr>\n",
       "    <tr>\n",
       "      <th>403</th>\n",
       "      <td>-0.020045</td>\n",
       "      <td>-0.044642</td>\n",
       "      <td>0.097264</td>\n",
       "      <td>-0.005671</td>\n",
       "      <td>-0.005697</td>\n",
       "      <td>-0.023861</td>\n",
       "      <td>-0.021311</td>\n",
       "      <td>-0.002592</td>\n",
       "      <td>0.061686</td>\n",
       "      <td>0.040343</td>\n",
       "      <td>275.0</td>\n",
       "    </tr>\n",
       "    <tr>\n",
       "      <th>255</th>\n",
       "      <td>0.001751</td>\n",
       "      <td>-0.044642</td>\n",
       "      <td>-0.065486</td>\n",
       "      <td>-0.005671</td>\n",
       "      <td>-0.007073</td>\n",
       "      <td>-0.019476</td>\n",
       "      <td>0.041277</td>\n",
       "      <td>-0.039493</td>\n",
       "      <td>-0.003304</td>\n",
       "      <td>0.007207</td>\n",
       "      <td>153.0</td>\n",
       "    </tr>\n",
       "  </tbody>\n",
       "</table>\n",
       "<p>442 rows × 11 columns</p>\n",
       "</div>"
      ],
      "text/plain": [
       "            0         1         2         3         4         5         6  \\\n",
       "325 -0.001882 -0.044642  0.054152 -0.066495  0.072732  0.056619 -0.043401   \n",
       "22  -0.085430 -0.044642 -0.004050 -0.009113 -0.002945  0.007767  0.022869   \n",
       "347  0.038076  0.050680 -0.029918 -0.074528 -0.012577 -0.012587  0.004460   \n",
       "299  0.038076  0.050680 -0.013751 -0.015999 -0.035968 -0.021982 -0.013948   \n",
       "300  0.016281 -0.044642  0.073552 -0.041247 -0.004321 -0.013527 -0.013948   \n",
       "..        ...       ...       ...       ...       ...       ...       ...   \n",
       "148 -0.060003  0.050680  0.015350 -0.019442  0.036958  0.048164  0.019187   \n",
       "231  0.009016 -0.044642 -0.030996  0.021872  0.008063  0.008707  0.004460   \n",
       "183  0.045341  0.050680 -0.035307  0.063187 -0.004321 -0.001627 -0.010266   \n",
       "403 -0.020045 -0.044642  0.097264 -0.005671 -0.005697 -0.023861 -0.021311   \n",
       "255  0.001751 -0.044642 -0.065486 -0.005671 -0.007073 -0.019476  0.041277   \n",
       "\n",
       "            7         8         9  target  \n",
       "325  0.084863  0.084495  0.048628   192.0  \n",
       "22  -0.039493 -0.061177 -0.013504    68.0  \n",
       "347 -0.002592  0.003712 -0.030072    88.0  \n",
       "299 -0.002592 -0.025952 -0.001078    83.0  \n",
       "300 -0.001116  0.042896  0.044485   275.0  \n",
       "..        ...       ...       ...     ...  \n",
       "148 -0.002592 -0.030751 -0.001078    96.0  \n",
       "231 -0.002592  0.009436  0.011349   154.0  \n",
       "183 -0.002592  0.015567  0.056912   185.0  \n",
       "403 -0.002592  0.061686  0.040343   275.0  \n",
       "255 -0.039493 -0.003304  0.007207   153.0  \n",
       "\n",
       "[442 rows x 11 columns]"
      ]
     },
     "execution_count": 71,
     "metadata": {},
     "output_type": "execute_result"
    }
   ],
   "source": [
    "diabetes=load_diabetes() \n",
    "X=diabetes.data \n",
    "y=diabetes.target\n",
    "\n",
    "df_diabetes=pd.DataFrame(X) \n",
    "df_diabetes[\"target\"]=y \n",
    "df_diabetes=df_diabetes.sample(frac=1) \n",
    "df_diabetes \n"
   ]
  },
  {
   "cell_type": "markdown",
   "metadata": {},
   "source": [
    "#### VISUALIZING DATA"
   ]
  },
  {
   "cell_type": "code",
   "execution_count": 72,
   "metadata": {},
   "outputs": [
    {
     "data": {
      "image/png": "[encoded data removed]",
      "text/plain": [
       "<Figure size 432x288 with 1 Axes>"
      ]
     },
     "metadata": {
      "needs_background": "light"
     },
     "output_type": "display_data"
    }
   ],
   "source": [
    "pca=PCA(n_components=1) \n",
    "arrayFeat=pca.fit_transform(X) \n",
    "arrayFeat=pd.DataFrame(arrayFeat) \n",
    "arrayFeat.columns= [\"COMP1\"]\n",
    "\n",
    "plt.scatter(y,arrayFeat)   \n",
    "plt.xlabel(\"feat\") \n",
    "plt.ylabel(\"target\") \n",
    "plt.show() \n",
    "\n"
   ]
  },
  {
   "cell_type": "markdown",
   "metadata": {},
   "source": [
    "#### LOADING MODEL"
   ]
  },
  {
   "cell_type": "code",
   "execution_count": 73,
   "metadata": {},
   "outputs": [],
   "source": [
    "def getModel(): \n",
    "    return LinearRegression() \n",
    "    #return RandomForestRegressor() \n",
    "    #return  DecisionTreeRegressor()"
   ]
  },
  {
   "cell_type": "markdown",
   "metadata": {},
   "source": [
    "## CROSS VAL"
   ]
  },
  {
   "cell_type": "code",
   "execution_count": 74,
   "metadata": {},
   "outputs": [
    {
     "name": "stdout",
     "output_type": "stream",
     "text": [
      "R2:  0.2375715095430369\n"
     ]
    }
   ],
   "source": [
    "scores =cross_val_score(getModel(),X,y,cv=10) \n",
    "print(\"R2: \",np.absolute(np.mean(scores))) "
   ]
  },
  {
   "cell_type": "markdown",
   "metadata": {},
   "source": [
    "#### SEEING RESULT GRAPH"
   ]
  },
  {
   "cell_type": "code",
   "execution_count": 75,
   "metadata": {},
   "outputs": [
    {
     "data": {
      "image/png": "[encoded data removed]",
      "text/plain": [
       "<Figure size 432x288 with 1 Axes>"
      ]
     },
     "metadata": {
      "needs_background": "light"
     },
     "output_type": "display_data"
    }
   ],
   "source": [
    "y_pred=cross_val_predict(getModel(),X,y,cv=10) \n",
    "plt.scatter(y,y_pred) \n",
    "plt.xlabel(\"real\") \n",
    "plt.ylabel(\"prev\") \n",
    "plt.show()"
   ]
  }
 ],
 "metadata": {
  "kernelspec": {
   "display_name": "Python 3.9.7 ('base')",
   "language": "python",
   "name": "python3"
  },
  "language_info": {
   "codemirror_mode": {
    "name": "ipython",
    "version": 3
   },
   "file_extension": ".py",
   "mimetype": "text/x-python",
   "name": "python",
   "nbconvert_exporter": "python",
   "pygments_lexer": "ipython3",
   "version": "3.9.7"
  },
  "orig_nbformat": 4,
  "vscode": {
   "interpreter": {
    "hash": "25c620228969fe95e56415058c0a9cb5716d86f3146082bb5e355b23bedd7a43"
   }
  }
 },
 "nbformat": 4,
 "nbformat_minor": 2
}
